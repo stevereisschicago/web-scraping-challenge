{
 "cells": [
  {
   "cell_type": "code",
   "execution_count": 334,
   "id": "df2047a0",
   "metadata": {},
   "outputs": [],
   "source": [
    "from splinter import Browser\n",
    "from bs4 import BeautifulSoup\n",
    "from webdriver_manager.chrome import ChromeDriverManager"
   ]
  },
  {
   "cell_type": "code",
   "execution_count": 335,
   "id": "45540bd1",
   "metadata": {},
   "outputs": [
    {
     "name": "stderr",
     "output_type": "stream",
     "text": [
      "\n",
      "\n",
      "====== WebDriver manager ======\n",
      "Current google-chrome version is 93.0.4577\n",
      "Get LATEST driver version for 93.0.4577\n",
      "Driver [/Users/sreiss/.wdm/drivers/chromedriver/mac64/93.0.4577.63/chromedriver] found in cache\n"
     ]
    }
   ],
   "source": [
    "executable_path = {'executable_path': ChromeDriverManager().install()}\n",
    "browser = Browser('chrome', **executable_path, headless=False)"
   ]
  },
  {
   "cell_type": "code",
   "execution_count": 336,
   "id": "3cf2100c",
   "metadata": {},
   "outputs": [],
   "source": [
    "# Browser to Mars Site\n",
    "browser.visit('https://redplanetscience.com/')\n"
   ]
  },
  {
   "cell_type": "code",
   "execution_count": 300,
   "id": "b1169a39",
   "metadata": {},
   "outputs": [
    {
     "name": "stdout",
     "output_type": "stream",
     "text": [
      "Two of a Space Kind: Apollo 12 and Mars 2020\n",
      "Apollo 12 and the upcoming Mars 2020 mission may be separated by half a century, but they share several goals unique in the annals of space exploration.\n"
     ]
    }
   ],
   "source": [
    "\n",
    "browser.visit('https://redplanetscience.com/')\n",
    "html= browser.html\n",
    "soup= BeautifulSoup(html, 'html.parser')\n",
    "\n",
    "# Search titles and content\n",
    "title_info = soup.find_all('div', class_='content_title')\n",
    "\n",
    "p_info = soup.find_all('div', class_='article_teaser_body')\n",
    "\n",
    "# Extract first title and paragraph, and assign to variables\n",
    "news_title = title_info[0].text\n",
    "news_p = p_info[0].text\n",
    "\n",
    "print(news_title)\n",
    "print(news_p)\n"
   ]
  },
  {
   "cell_type": "code",
   "execution_count": 291,
   "id": "fcb62852",
   "metadata": {},
   "outputs": [],
   "source": [
    "#Websites\n",
    "# website - https://spaceimages-mars.com/\n",
    "# image - https://spaceimages-mars.com/image/featured/mars3.jpg\n",
    "# https://spaceimages-mars.com/image/featured/mars1.jpg"
   ]
  },
  {
   "cell_type": "code",
   "execution_count": 301,
   "id": "368db245",
   "metadata": {},
   "outputs": [],
   "source": [
    "\n",
    "# Get image\n",
    "browser.visit('https://spaceimages-mars.com/')\n"
   ]
  },
  {
   "cell_type": "code",
   "execution_count": 302,
   "id": "550dedb3",
   "metadata": {},
   "outputs": [
    {
     "name": "stderr",
     "output_type": "stream",
     "text": [
      "/Users/sreiss/opt/anaconda3/lib/python3.8/site-packages/splinter/driver/webdriver/__init__.py:519: FutureWarning: browser.find_link_by_partial_text is deprecated. Use browser.links.find_by_partial_text instead.\n",
      "  warnings.warn(\n"
     ]
    }
   ],
   "source": [
    "\n",
    "# Link to full size image\n",
    "browser.click_link_by_partial_text('FULL IMAGE')\n"
   ]
  },
  {
   "cell_type": "code",
   "execution_count": 303,
   "id": "58a5428e",
   "metadata": {},
   "outputs": [
    {
     "name": "stdout",
     "output_type": "stream",
     "text": [
      "https://spaceimages-mars.com/image/featured/mars2.jpg\n"
     ]
    }
   ],
   "source": [
    "html = browser.html\n",
    "soup = BeautifulSoup(html, 'html.parser')\n",
    "\n",
    "# Image URL - NOTE - HAVE THE WRONG IMAGE - 12.3 talked about getting the right one\n",
    "\n",
    "image = soup.find_all('div', class_='floating_text_area')\n",
    "relative_img_path = image[0].a['href']\n",
    "featured_img_url = 'https://spaceimages-mars.com/' + relative_img_path\n",
    "\n",
    "print(featured_img_url)\n"
   ]
  },
  {
   "cell_type": "code",
   "execution_count": 305,
   "id": "ea7bb510",
   "metadata": {},
   "outputs": [
    {
     "data": {
      "text/html": [
       "<div>\n",
       "<style scoped>\n",
       "    .dataframe tbody tr th:only-of-type {\n",
       "        vertical-align: middle;\n",
       "    }\n",
       "\n",
       "    .dataframe tbody tr th {\n",
       "        vertical-align: top;\n",
       "    }\n",
       "\n",
       "    .dataframe thead th {\n",
       "        text-align: right;\n",
       "    }\n",
       "</style>\n",
       "<table border=\"1\" class=\"dataframe\">\n",
       "  <thead>\n",
       "    <tr style=\"text-align: right;\">\n",
       "      <th></th>\n",
       "      <th>0</th>\n",
       "      <th>1</th>\n",
       "      <th>2</th>\n",
       "    </tr>\n",
       "  </thead>\n",
       "  <tbody>\n",
       "    <tr>\n",
       "      <th>0</th>\n",
       "      <td>Mars - Earth Comparison</td>\n",
       "      <td>Mars</td>\n",
       "      <td>Earth</td>\n",
       "    </tr>\n",
       "    <tr>\n",
       "      <th>1</th>\n",
       "      <td>Diameter:</td>\n",
       "      <td>6,779 km</td>\n",
       "      <td>12,742 km</td>\n",
       "    </tr>\n",
       "    <tr>\n",
       "      <th>2</th>\n",
       "      <td>Mass:</td>\n",
       "      <td>6.39 × 10^23 kg</td>\n",
       "      <td>5.97 × 10^24 kg</td>\n",
       "    </tr>\n",
       "    <tr>\n",
       "      <th>3</th>\n",
       "      <td>Moons:</td>\n",
       "      <td>2</td>\n",
       "      <td>1</td>\n",
       "    </tr>\n",
       "    <tr>\n",
       "      <th>4</th>\n",
       "      <td>Distance from Sun:</td>\n",
       "      <td>227,943,824 km</td>\n",
       "      <td>149,598,262 km</td>\n",
       "    </tr>\n",
       "    <tr>\n",
       "      <th>5</th>\n",
       "      <td>Length of Year:</td>\n",
       "      <td>687 Earth days</td>\n",
       "      <td>365.24 days</td>\n",
       "    </tr>\n",
       "    <tr>\n",
       "      <th>6</th>\n",
       "      <td>Temperature:</td>\n",
       "      <td>-87 to -5 °C</td>\n",
       "      <td>-88 to 58°C</td>\n",
       "    </tr>\n",
       "  </tbody>\n",
       "</table>\n",
       "</div>"
      ],
      "text/plain": [
       "                         0                1                2\n",
       "0  Mars - Earth Comparison             Mars            Earth\n",
       "1                Diameter:         6,779 km        12,742 km\n",
       "2                    Mass:  6.39 × 10^23 kg  5.97 × 10^24 kg\n",
       "3                   Moons:                2                1\n",
       "4       Distance from Sun:   227,943,824 km   149,598,262 km\n",
       "5          Length of Year:   687 Earth days      365.24 days\n",
       "6             Temperature:     -87 to -5 °C      -88 to 58°C"
      ]
     },
     "execution_count": 305,
     "metadata": {},
     "output_type": "execute_result"
    }
   ],
   "source": [
    "\n",
    "import pandas as pd\n",
    "\n",
    "table = pd.read_html('https://galaxyfacts-mars.com/')\n",
    "\n",
    "table[0]"
   ]
  },
  {
   "cell_type": "code",
   "execution_count": null,
   "id": "9dbe90c2",
   "metadata": {},
   "outputs": [],
   "source": []
  },
  {
   "cell_type": "code",
   "execution_count": 307,
   "id": "67d806e5",
   "metadata": {},
   "outputs": [
    {
     "data": {
      "text/html": [
       "<div>\n",
       "<style scoped>\n",
       "    .dataframe tbody tr th:only-of-type {\n",
       "        vertical-align: middle;\n",
       "    }\n",
       "\n",
       "    .dataframe tbody tr th {\n",
       "        vertical-align: top;\n",
       "    }\n",
       "\n",
       "    .dataframe thead th {\n",
       "        text-align: right;\n",
       "    }\n",
       "</style>\n",
       "<table border=\"1\" class=\"dataframe\">\n",
       "  <thead>\n",
       "    <tr style=\"text-align: right;\">\n",
       "      <th></th>\n",
       "      <th>Item</th>\n",
       "      <th>Amount</th>\n",
       "    </tr>\n",
       "  </thead>\n",
       "  <tbody>\n",
       "    <tr>\n",
       "      <th>0</th>\n",
       "      <td>Equatorial Diameter:</td>\n",
       "      <td>6,792 km</td>\n",
       "    </tr>\n",
       "    <tr>\n",
       "      <th>1</th>\n",
       "      <td>Polar Diameter:</td>\n",
       "      <td>6,752 km</td>\n",
       "    </tr>\n",
       "    <tr>\n",
       "      <th>2</th>\n",
       "      <td>Mass:</td>\n",
       "      <td>6.39 × 10^23 kg (0.11 Earths)</td>\n",
       "    </tr>\n",
       "    <tr>\n",
       "      <th>3</th>\n",
       "      <td>Moons:</td>\n",
       "      <td>2 ( Phobos &amp; Deimos )</td>\n",
       "    </tr>\n",
       "    <tr>\n",
       "      <th>4</th>\n",
       "      <td>Orbit Distance:</td>\n",
       "      <td>227,943,824 km (1.38 AU)</td>\n",
       "    </tr>\n",
       "    <tr>\n",
       "      <th>5</th>\n",
       "      <td>Orbit Period:</td>\n",
       "      <td>687 days (1.9 years)</td>\n",
       "    </tr>\n",
       "    <tr>\n",
       "      <th>6</th>\n",
       "      <td>Surface Temperature:</td>\n",
       "      <td>-87 to -5 °C</td>\n",
       "    </tr>\n",
       "    <tr>\n",
       "      <th>7</th>\n",
       "      <td>First Record:</td>\n",
       "      <td>2nd millennium BC</td>\n",
       "    </tr>\n",
       "    <tr>\n",
       "      <th>8</th>\n",
       "      <td>Recorded By:</td>\n",
       "      <td>Egyptian astronomers</td>\n",
       "    </tr>\n",
       "  </tbody>\n",
       "</table>\n",
       "</div>"
      ],
      "text/plain": [
       "                   Item                         Amount\n",
       "0  Equatorial Diameter:                       6,792 km\n",
       "1       Polar Diameter:                       6,752 km\n",
       "2                 Mass:  6.39 × 10^23 kg (0.11 Earths)\n",
       "3                Moons:          2 ( Phobos & Deimos )\n",
       "4       Orbit Distance:       227,943,824 km (1.38 AU)\n",
       "5         Orbit Period:           687 days (1.9 years)\n",
       "6  Surface Temperature:                   -87 to -5 °C\n",
       "7         First Record:              2nd millennium BC\n",
       "8          Recorded By:           Egyptian astronomers"
      ]
     },
     "execution_count": 307,
     "metadata": {},
     "output_type": "execute_result"
    }
   ],
   "source": [
    "\n",
    "table = pd.read_html('https://galaxyfacts-mars.com/')\n",
    "\n",
    "df = table[1]\n",
    "\n",
    "df.columns=['Item', 'Amount']\n",
    "\n",
    "df\n"
   ]
  },
  {
   "cell_type": "code",
   "execution_count": 337,
   "id": "64b09552",
   "metadata": {},
   "outputs": [
    {
     "data": {
      "text/plain": [
       "'<table border=\"1\" class=\"dataframe\">\\n  <tbody>\\n    <tr>\\n      <td>Mars - Earth Comparison</td>\\n      <td>Mars</td>\\n      <td>Earth</td>\\n    </tr>\\n    <tr>\\n      <td>Diameter:</td>\\n      <td>6,779 km</td>\\n      <td>12,742 km</td>\\n    </tr>\\n    <tr>\\n      <td>Mass:</td>\\n      <td>6.39 × 10^23 kg</td>\\n      <td>5.97 × 10^24 kg</td>\\n    </tr>\\n    <tr>\\n      <td>Moons:</td>\\n      <td>2</td>\\n      <td>1</td>\\n    </tr>\\n    <tr>\\n      <td>Distance from Sun:</td>\\n      <td>227,943,824 km</td>\\n      <td>149,598,262 km</td>\\n    </tr>\\n    <tr>\\n      <td>Length of Year:</td>\\n      <td>687 Earth days</td>\\n      <td>365.24 days</td>\\n    </tr>\\n    <tr>\\n      <td>Temperature:</td>\\n      <td>-87 to -5 °C</td>\\n      <td>-88 to 58°C</td>\\n    </tr>\\n  </tbody>\\n</table>'"
      ]
     },
     "execution_count": 337,
     "metadata": {},
     "output_type": "execute_result"
    }
   ],
   "source": [
    "# to HTML \n",
    "\n",
    "html_table = df.to_html(index=False, header=False)\n",
    "html_table\n",
    "\n"
   ]
  },
  {
   "cell_type": "code",
   "execution_count": 338,
   "id": "321211dd",
   "metadata": {},
   "outputs": [],
   "source": [
    "# Hemisphere info\n",
    "\n",
    "browser.visit('https://marshemispheres.com/')\n"
   ]
  },
  {
   "cell_type": "code",
   "execution_count": 339,
   "id": "eb755c41",
   "metadata": {},
   "outputs": [],
   "source": [
    "\n",
    "html = browser.html\n",
    "soup = BeautifulSoup(html, 'html.parser')\n"
   ]
  },
  {
   "cell_type": "code",
   "execution_count": 340,
   "id": "ed88b472",
   "metadata": {},
   "outputs": [
    {
     "name": "stdout",
     "output_type": "stream",
     "text": [
      "https://marshemispheres.com/cerberus.html\n"
     ]
    }
   ],
   "source": [
    "# get one sub page\n",
    "\n",
    "thumbnail = soup.find_all('div', class_='item')\n",
    "img_path = thumbnail[0].a['href']\n",
    "featured_img_path = 'https://marshemispheres.com/' + img_path\n",
    "\n",
    "print(featured_img_path)\n"
   ]
  },
  {
   "cell_type": "code",
   "execution_count": 341,
   "id": "07462ac6",
   "metadata": {},
   "outputs": [
    {
     "name": "stdout",
     "output_type": "stream",
     "text": [
      "['https://marshemispheres.com/cerberus.html', 'https://marshemispheres.com/schiaparelli.html', 'https://marshemispheres.com/syrtis.html', 'https://marshemispheres.com/valles.html']\n"
     ]
    }
   ],
   "source": [
    "# get all subpages\n",
    "\n",
    "thumb_link = soup.find_all('div', class_='item')\n",
    "imgs_link = []\n",
    "for i in thumb_link:\n",
    "    img_link = i.find('a')['href']\n",
    "    imgs_link.append('https://marshemispheres.com/' + img_link)\n",
    "\n",
    "print(imgs_link)\n"
   ]
  },
  {
   "cell_type": "code",
   "execution_count": 276,
   "id": "27bd8771",
   "metadata": {},
   "outputs": [
    {
     "name": "stdout",
     "output_type": "stream",
     "text": [
      "images/full.jpg\n"
     ]
    }
   ],
   "source": [
    "# attempt #1 - get large image \n",
    "\n",
    "browser.visit(featured_img_path)\n",
    "\n",
    "html= browser.html\n",
    "soup= BeautifulSoup(html, 'html.parser')\n",
    "\n",
    "#browser.click_link_by_partial_text('Sample')\n",
    "\n",
    "img1 = soup.find_all('div', class_='downloads')\n",
    "img1_path = img1[0].a['href']\n",
    "                      \n",
    "print (img1_path)                   \n",
    "\n"
   ]
  },
  {
   "cell_type": "code",
   "execution_count": 277,
   "id": "ee98d0b2",
   "metadata": {},
   "outputs": [
    {
     "name": "stdout",
     "output_type": "stream",
     "text": [
      "[<li><a href=\"images/full.jpg\" target=\"_blank\">Sample</a> (jpg) 1024px wide</li>, <li><a href=\"images/cerberus_enhanced.tif\" target=\"_blank\">Original</a> (tif<span class=\"tooltip word-tif\" title=\"\"></span>) 21 MB</li>]\n"
     ]
    }
   ],
   "source": [
    "# attempt #2 - get larger image\n",
    "\n",
    "browser.visit(featured_img_path)\n",
    "img1 = soup.find_all(\"li\")\n",
    "print(img1)"
   ]
  },
  {
   "cell_type": "code",
   "execution_count": null,
   "id": "fc5cc538",
   "metadata": {},
   "outputs": [],
   "source": []
  },
  {
   "cell_type": "code",
   "execution_count": 278,
   "id": "674408ee",
   "metadata": {},
   "outputs": [
    {
     "name": "stdout",
     "output_type": "stream",
     "text": [
      "None\n"
     ]
    },
    {
     "name": "stderr",
     "output_type": "stream",
     "text": [
      "/Users/sreiss/opt/anaconda3/lib/python3.8/site-packages/splinter/driver/webdriver/__init__.py:519: FutureWarning: browser.find_link_by_partial_text is deprecated. Use browser.links.find_by_partial_text instead.\n",
      "  warnings.warn(\n"
     ]
    }
   ],
   "source": [
    "# attempt #4 - get large image\n",
    "\n",
    "browser.visit(featured_img_path)\n",
    "\n",
    "img1 = browser.click_link_by_partial_text('Sample')\n",
    "\n",
    "# img1 = soup.find_all('body')\n",
    "# img1_path = img1[0].img['src']\n",
    "                      \n",
    "#print (img1_path)                   \n",
    "print (img1)\n"
   ]
  },
  {
   "cell_type": "code",
   "execution_count": 282,
   "id": "6e8c35d4",
   "metadata": {},
   "outputs": [
    {
     "name": "stdout",
     "output_type": "stream",
     "text": [
      "images/full.jpg\n"
     ]
    }
   ],
   "source": [
    "# attempt #5 - get large image (gets logo from top of page)\n",
    "\n",
    "browser.visit(featured_img_path)\n",
    "\n",
    "img1 = browser.click_link_by_partial_text('Sample')\n",
    "\n",
    "# img1 = soup.find_all('body')\n",
    "# img1_path = img1[0].img['src']\n",
    "                      \n",
    "#print (img1_path)                   \n",
    "print (img1_path)"
   ]
  },
  {
   "cell_type": "code",
   "execution_count": 313,
   "id": "0c4dca88",
   "metadata": {},
   "outputs": [
    {
     "data": {
      "text/plain": [
       "['Cerberus Hemisphere Enhanced',\n",
       " 'Schiaparelli Hemisphere Enhanced',\n",
       " 'Syrtis Major Hemisphere Enhanced',\n",
       " 'Valles Marineris Hemisphere Enhanced']"
      ]
     },
     "execution_count": 313,
     "metadata": {},
     "output_type": "execute_result"
    }
   ],
   "source": [
    "# Hemisphere names as on the site\n",
    "\n",
    "\n",
    "mars_h = []\n",
    "results = soup.find_all('div', class_=\"collapsible results\")\n",
    "diff_hemi = results[0].find_all('h3')\n",
    "for name in diff_hemi:\n",
    "    mars_h.append(name.text)\n",
    "    \n",
    "mars_h"
   ]
  },
  {
   "cell_type": "code",
   "execution_count": null,
   "id": "0766692e",
   "metadata": {},
   "outputs": [],
   "source": []
  },
  {
   "cell_type": "code",
   "execution_count": 342,
   "id": "b2dc389f",
   "metadata": {},
   "outputs": [],
   "source": [
    "# # attempt #2 - Hemisphere names, try to get rid of the \"enhanced\" NOT SURE HOW\n",
    "\n",
    "# mars_h1 = []\n",
    "# results = soup.find_all('div', class_=\"collapsible results\")\n",
    "# diff_hemi1 = results[0].find_all('h3')\n",
    "# for name in diff_hemi1:\n",
    "#     mars_h1.append(name.text)\n",
    "#     for name in mars_h1:\n",
    "#         mars_h2 = mars_h1.split(' Enhanced')\n",
    "    \n",
    "# mars_h2"
   ]
  },
  {
   "cell_type": "code",
   "execution_count": 343,
   "id": "0dd67afd",
   "metadata": {},
   "outputs": [],
   "source": [
    "# # attempt #1 - create a list of dictionaries\n",
    "# # Note that the URL's are not the pages with the images, but each hemisphere landing page\n",
    "\n",
    "# hemisphere_image_urls = []\n",
    "# for mars in mars_h:        \n",
    "#     hemisphere_image_urls.append({'title': mars_h, 'img_url': imgs_link})\n",
    "\n",
    "                                 \n",
    "# print(hemisphere_image_urls)                                "
   ]
  },
  {
   "cell_type": "code",
   "execution_count": 212,
   "id": "3b256ed2",
   "metadata": {},
   "outputs": [
    {
     "data": {
      "text/plain": [
       "[{'Title': ['Cerberus Hemisphere Enhanced',\n",
       "   'Schiaparelli Hemisphere Enhanced',\n",
       "   'Syrtis Major Hemisphere Enhanced',\n",
       "   'Valles Marineris Hemisphere Enhanced'],\n",
       "  'img_url': ['https://marshemispheres.com/cerberus.html',\n",
       "   'https://marshemispheres.com/schiaparelli.html',\n",
       "   'https://marshemispheres.com/syrtis.html',\n",
       "   'https://marshemispheres.com/valles.html']}]"
      ]
     },
     "execution_count": 212,
     "metadata": {},
     "output_type": "execute_result"
    }
   ],
   "source": [
    "# attempt #2 - Create a list of dictionaries\n",
    "# Note that the URL's are not the pages with the images, but each hemisphere landing page - do I create a loop?\n",
    "\n",
    "mars_h3 = {\n",
    "    \"title\": mars_h\n",
    "}\n",
    "\n",
    "url_3 = {\n",
    "    \"img_url\": imgs_link\n",
    "}\n",
    "\n",
    "hemisphere_image_url3 = []\n",
    "hemisphere_image_url3.append({\"Title\": mars_h, \"img_url\": imgs_link})\n",
    "hemisphere_image_url3"
   ]
  },
  {
   "cell_type": "raw",
   "id": "ca43f16c",
   "metadata": {},
   "source": []
  },
  {
   "cell_type": "markdown",
   "id": "1deb29bc",
   "metadata": {},
   "source": []
  },
  {
   "cell_type": "code",
   "execution_count": 211,
   "id": "ab5c582d",
   "metadata": {},
   "outputs": [
    {
     "data": {
      "text/plain": [
       "[{'Title': ['Cerberus Hemisphere Enhanced',\n",
       "   'Schiaparelli Hemisphere Enhanced',\n",
       "   'Syrtis Major Hemisphere Enhanced',\n",
       "   'Valles Marineris Hemisphere Enhanced']},\n",
       " {'img_url': ['https://marshemispheres.com/cerberus.html',\n",
       "   'https://marshemispheres.com/schiaparelli.html',\n",
       "   'https://marshemispheres.com/syrtis.html',\n",
       "   'https://marshemispheres.com/valles.html']}]"
      ]
     },
     "execution_count": 211,
     "metadata": {},
     "output_type": "execute_result"
    }
   ],
   "source": [
    "# attempt #3 - Create a list of dictionaries\n",
    "# Note that the URL's are not the pages with the images, but each hemisphere landing page - do I create a loop?\n",
    "\n",
    "mars_h3 = {\n",
    "    \"title\": mars_h\n",
    "}\n",
    "\n",
    "url_3 = {\n",
    "    \"img_url\": imgs_link\n",
    "}\n",
    "\n",
    "hemisphere_image_url3 = []\n",
    "hemisphere_image_url3.append({\"Title\": mars_h})\n",
    "hemisphere_image_url3.append({\"img_url\": imgs_link})\n",
    "hemisphere_image_url3"
   ]
  },
  {
   "cell_type": "code",
   "execution_count": 213,
   "id": "9ada178b",
   "metadata": {},
   "outputs": [
    {
     "data": {
      "text/plain": [
       "[{'Title': ['Cerberus Hemisphere Enhanced',\n",
       "   'Schiaparelli Hemisphere Enhanced',\n",
       "   'Syrtis Major Hemisphere Enhanced',\n",
       "   'Valles Marineris Hemisphere Enhanced']},\n",
       " {'img_url': ['https://marshemispheres.com/cerberus.html',\n",
       "   'https://marshemispheres.com/schiaparelli.html',\n",
       "   'https://marshemispheres.com/syrtis.html',\n",
       "   'https://marshemispheres.com/valles.html']}]"
      ]
     },
     "execution_count": 213,
     "metadata": {},
     "output_type": "execute_result"
    }
   ],
   "source": [
    "# attempt #4 - Create a list of dictionaries\n",
    "# Note that the URL's are not the pages with the images, but each hemisphere landing page -  loop?\n",
    "\n",
    "mars_h4 = {\n",
    "    \"title\": mars_h\n",
    "}\n",
    "\n",
    "url_4 = {\n",
    "    \"img_url\": imgs_link\n",
    "}\n",
    "\n",
    "hemisphere_image_url4 = []\n",
    "for i in mars_h4:\n",
    "    hemisphere_image_url4.append({\"Title\": mars_h})\n",
    "    for j in url_4:\n",
    "        hemisphere_image_url4.append({\"img_url\": imgs_link})\n",
    "\n",
    "# hemisphere_image_url4.append({\"Title\": mars_h, \"img_url\": imgs_link})\n",
    "hemisphere_image_url4\n"
   ]
  },
  {
   "cell_type": "code",
   "execution_count": 314,
   "id": "85ee1481",
   "metadata": {},
   "outputs": [
    {
     "data": {
      "text/plain": [
       "[{'title': 'Cerberus Hemisphere Enhanced',\n",
       "  'img_url': 'https://marshemispheres.com/valles.html'},\n",
       " {'title': 'Schiaparelli Hemisphere Enhanced',\n",
       "  'img_url': 'https://marshemispheres.com/valles.html'},\n",
       " {'title': 'Syrtis Major Hemisphere Enhanced',\n",
       "  'img_url': 'https://marshemispheres.com/valles.html'},\n",
       " {'title': 'Valles Marineris Hemisphere Enhanced',\n",
       "  'img_url': 'https://marshemispheres.com/valles.html'}]"
      ]
     },
     "execution_count": 314,
     "metadata": {},
     "output_type": "execute_result"
    }
   ],
   "source": [
    "# LIST OF DIRECTORIES\n",
    "# attempt #5 - Eureka, it works - discovered the ZIP function and some related code which makes things possible\n",
    "\n",
    "mars_zip = zip(mars_h, imgs_link)\n",
    "\n",
    "hemisphere_image_url5 = []\n",
    "\n",
    "for title, img_url in mars_zip:\n",
    "    \n",
    "    mars_dict = {}\n",
    "    \n",
    "    mars_dict['title'] = title\n",
    "    \n",
    "    mars_dict['img_url'] = img\n",
    "    \n",
    "    hemisphere_image_url5.append(mars_dict)\n",
    "\n",
    "hemisphere_image_url5"
   ]
  },
  {
   "cell_type": "code",
   "execution_count": 220,
   "id": "80e03ee2",
   "metadata": {},
   "outputs": [
    {
     "data": {
      "text/plain": [
       "{'news_title': \"NASA's Perseverance Mars Rover Gets Balanced\",\n",
       " 'news_paragraph': \"The mission team performed a crucial weight-balancing test on the rover in preparation for this summer's history-making launch to the Red Planet.\",\n",
       " 'featured_image': 'https://spaceimages-mars.com/image/featured/mars3.jpg',\n",
       " 'mars_facts': '<table border=\"1\" class=\"dataframe\">\\n  <tbody>\\n    <tr>\\n      <td>Equatorial Diameter:</td>\\n      <td>6,792 km</td>\\n    </tr>\\n    <tr>\\n      <td>Polar Diameter:</td>\\n      <td>6,752 km</td>\\n    </tr>\\n    <tr>\\n      <td>Mass:</td>\\n      <td>6.39 × 10^23 kg (0.11 Earths)</td>\\n    </tr>\\n    <tr>\\n      <td>Moons:</td>\\n      <td>2 ( Phobos &amp; Deimos )</td>\\n    </tr>\\n    <tr>\\n      <td>Orbit Distance:</td>\\n      <td>227,943,824 km (1.38 AU)</td>\\n    </tr>\\n    <tr>\\n      <td>Orbit Period:</td>\\n      <td>687 days (1.9 years)</td>\\n    </tr>\\n    <tr>\\n      <td>Surface Temperature:</td>\\n      <td>-87 to -5 °C</td>\\n    </tr>\\n    <tr>\\n      <td>First Record:</td>\\n      <td>2nd millennium BC</td>\\n    </tr>\\n    <tr>\\n      <td>Recorded By:</td>\\n      <td>Egyptian astronomers</td>\\n    </tr>\\n  </tbody>\\n</table>',\n",
       " 'hemispheres': [{'title': 'Cerberus Hemisphere Enhanced',\n",
       "   'img_url': 'https://marshemispheres.com/valles.html'},\n",
       "  {'title': 'Schiaparelli Hemisphere Enhanced',\n",
       "   'img_url': 'https://marshemispheres.com/valles.html'},\n",
       "  {'title': 'Syrtis Major Hemisphere Enhanced',\n",
       "   'img_url': 'https://marshemispheres.com/valles.html'},\n",
       "  {'title': 'Valles Marineris Hemisphere Enhanced',\n",
       "   'img_url': 'https://marshemispheres.com/valles.html'}],\n",
       " 'hemisphere_image': ['https://marshemispheres.com/cerberus.html',\n",
       "  'https://marshemispheres.com/schiaparelli.html',\n",
       "  'https://marshemispheres.com/syrtis.html',\n",
       "  'https://marshemispheres.com/valles.html']}"
      ]
     },
     "execution_count": 220,
     "metadata": {},
     "output_type": "execute_result"
    }
   ],
   "source": [
    "mars_data = {\n",
    "        \"news_title\": news_title,\n",
    "        \"news_paragraph\": news_p,\n",
    "        \"featured_image\": featured_img_url,\n",
    "        \"mars_facts\": html_table,\n",
    "        \"hemispheres\": hemisphere_image_url5,\n",
    "        \"hemisphere_image\": imgs_link\n",
    "    }\n",
    "\n",
    "mars_data"
   ]
  },
  {
   "cell_type": "code",
   "execution_count": 316,
   "id": "7a9d6ecb",
   "metadata": {},
   "outputs": [
    {
     "data": {
      "text/plain": [
       "{'news_title': 'Two of a Space Kind: Apollo 12 and Mars 2020',\n",
       " 'news_paragraph': 'Apollo 12 and the upcoming Mars 2020 mission may be separated by half a century, but they share several goals unique in the annals of space exploration.',\n",
       " 'featured_image': 'https://spaceimages-mars.com/image/featured/mars2.jpg',\n",
       " 'mars_facts': '<table border=\"1\" class=\"dataframe\">\\n  <tbody>\\n    <tr>\\n      <td>Equatorial Diameter:</td>\\n      <td>6,792 km</td>\\n    </tr>\\n    <tr>\\n      <td>Polar Diameter:</td>\\n      <td>6,752 km</td>\\n    </tr>\\n    <tr>\\n      <td>Mass:</td>\\n      <td>6.39 × 10^23 kg (0.11 Earths)</td>\\n    </tr>\\n    <tr>\\n      <td>Moons:</td>\\n      <td>2 ( Phobos &amp; Deimos )</td>\\n    </tr>\\n    <tr>\\n      <td>Orbit Distance:</td>\\n      <td>227,943,824 km (1.38 AU)</td>\\n    </tr>\\n    <tr>\\n      <td>Orbit Period:</td>\\n      <td>687 days (1.9 years)</td>\\n    </tr>\\n    <tr>\\n      <td>Surface Temperature:</td>\\n      <td>-87 to -5 °C</td>\\n    </tr>\\n    <tr>\\n      <td>First Record:</td>\\n      <td>2nd millennium BC</td>\\n    </tr>\\n    <tr>\\n      <td>Recorded By:</td>\\n      <td>Egyptian astronomers</td>\\n    </tr>\\n  </tbody>\\n</table>',\n",
       " 'hemispheres': ['Cerberus Hemisphere Enhanced',\n",
       "  'Schiaparelli Hemisphere Enhanced',\n",
       "  'Syrtis Major Hemisphere Enhanced',\n",
       "  'Valles Marineris Hemisphere Enhanced'],\n",
       " 'hemisphere_image': ['https://marshemispheres.com/cerberus.html',\n",
       "  'https://marshemispheres.com/schiaparelli.html',\n",
       "  'https://marshemispheres.com/syrtis.html',\n",
       "  'https://marshemispheres.com/valles.html']}"
      ]
     },
     "execution_count": 316,
     "metadata": {},
     "output_type": "execute_result"
    }
   ],
   "source": [
    "mars_data = {\n",
    "        \"news_title\": news_title,\n",
    "        \"news_paragraph\": news_p,\n",
    "        \"featured_image\": featured_img_url,\n",
    "        \"mars_facts\": html_table,\n",
    "        \"hemispheres\": mars_h,\n",
    "        \"hemisphere_image\": imgs_link\n",
    "    }\n",
    "\n",
    "mars_data"
   ]
  },
  {
   "cell_type": "code",
   "execution_count": null,
   "id": "02120fd5",
   "metadata": {},
   "outputs": [],
   "source": []
  }
 ],
 "metadata": {
  "kernelspec": {
   "display_name": "Python 3",
   "language": "python",
   "name": "python3"
  },
  "language_info": {
   "codemirror_mode": {
    "name": "ipython",
    "version": 3
   },
   "file_extension": ".py",
   "mimetype": "text/x-python",
   "name": "python",
   "nbconvert_exporter": "python",
   "pygments_lexer": "ipython3",
   "version": "3.8.8"
  }
 },
 "nbformat": 4,
 "nbformat_minor": 5
}
